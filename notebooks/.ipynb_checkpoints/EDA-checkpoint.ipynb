{
 "cells": [
  {
   "cell_type": "code",
   "execution_count": 1,
   "metadata": {},
   "outputs": [],
   "source": [
    "import pandas as pd\n",
    "import numpy as np"
   ]
  },
  {
   "cell_type": "code",
   "execution_count": 3,
   "metadata": {},
   "outputs": [
    {
     "data": {
      "text/html": [
       "<div>\n",
       "<style scoped>\n",
       "    .dataframe tbody tr th:only-of-type {\n",
       "        vertical-align: middle;\n",
       "    }\n",
       "\n",
       "    .dataframe tbody tr th {\n",
       "        vertical-align: top;\n",
       "    }\n",
       "\n",
       "    .dataframe thead th {\n",
       "        text-align: right;\n",
       "    }\n",
       "</style>\n",
       "<table border=\"1\" class=\"dataframe\">\n",
       "  <thead>\n",
       "    <tr style=\"text-align: right;\">\n",
       "      <th></th>\n",
       "      <th>Year</th>\n",
       "      <th>Sport</th>\n",
       "      <th>Event</th>\n",
       "      <th>Country</th>\n",
       "      <th>Gender</th>\n",
       "      <th>Medal Rank</th>\n",
       "      <th>Medal</th>\n",
       "      <th>Name of Athlete or Team</th>\n",
       "      <th>Age of Athlete</th>\n",
       "    </tr>\n",
       "  </thead>\n",
       "  <tbody>\n",
       "    <tr>\n",
       "      <th>0</th>\n",
       "      <td>1924</td>\n",
       "      <td>Bobsled</td>\n",
       "      <td>Men's Four/Five</td>\n",
       "      <td>Switzerland</td>\n",
       "      <td>Men</td>\n",
       "      <td>1</td>\n",
       "      <td>gold</td>\n",
       "      <td>Switzerland-1</td>\n",
       "      <td>NaN</td>\n",
       "    </tr>\n",
       "    <tr>\n",
       "      <th>1</th>\n",
       "      <td>1924</td>\n",
       "      <td>Bobsled</td>\n",
       "      <td>Men's Four/Five</td>\n",
       "      <td>Britain</td>\n",
       "      <td>Men</td>\n",
       "      <td>2</td>\n",
       "      <td>silver</td>\n",
       "      <td>Britain-1</td>\n",
       "      <td>NaN</td>\n",
       "    </tr>\n",
       "    <tr>\n",
       "      <th>2</th>\n",
       "      <td>1924</td>\n",
       "      <td>Bobsled</td>\n",
       "      <td>Men's Four/Five</td>\n",
       "      <td>Belgium</td>\n",
       "      <td>Men</td>\n",
       "      <td>3</td>\n",
       "      <td>bronze</td>\n",
       "      <td>Belgium-1</td>\n",
       "      <td>NaN</td>\n",
       "    </tr>\n",
       "    <tr>\n",
       "      <th>3</th>\n",
       "      <td>1924</td>\n",
       "      <td>Cross-Country Skiing</td>\n",
       "      <td>Men's 18 Kilometers</td>\n",
       "      <td>Norway</td>\n",
       "      <td>Men</td>\n",
       "      <td>1</td>\n",
       "      <td>gold</td>\n",
       "      <td>Thorleif Haug</td>\n",
       "      <td>29.0</td>\n",
       "    </tr>\n",
       "    <tr>\n",
       "      <th>4</th>\n",
       "      <td>1924</td>\n",
       "      <td>Cross-Country Skiing</td>\n",
       "      <td>Men's 18 Kilometers</td>\n",
       "      <td>Norway</td>\n",
       "      <td>Men</td>\n",
       "      <td>2</td>\n",
       "      <td>silver</td>\n",
       "      <td>Johan GrÃ¸ttumsbraaten</td>\n",
       "      <td>24.0</td>\n",
       "    </tr>\n",
       "  </tbody>\n",
       "</table>\n",
       "</div>"
      ],
      "text/plain": [
       "   Year                 Sport                Event      Country Gender  \\\n",
       "0  1924               Bobsled      Men's Four/Five  Switzerland    Men   \n",
       "1  1924               Bobsled      Men's Four/Five      Britain    Men   \n",
       "2  1924               Bobsled      Men's Four/Five      Belgium    Men   \n",
       "3  1924  Cross-Country Skiing  Men's 18 Kilometers       Norway    Men   \n",
       "4  1924  Cross-Country Skiing  Men's 18 Kilometers       Norway    Men   \n",
       "\n",
       "   Medal Rank   Medal Name of Athlete or Team  Age of Athlete  \n",
       "0           1    gold           Switzerland-1             NaN  \n",
       "1           2  silver               Britain-1             NaN  \n",
       "2           3  bronze               Belgium-1             NaN  \n",
       "3           1    gold           Thorleif Haug            29.0  \n",
       "4           2  silver  Johan GrÃ¸ttumsbraaten            24.0  "
      ]
     },
     "execution_count": 3,
     "metadata": {},
     "output_type": "execute_result"
    }
   ],
   "source": [
    "df_medals = pd.read_excel('../data/winter-olympic-medals.xlsx')\n",
    "df_medals.head()"
   ]
  },
  {
   "cell_type": "code",
   "execution_count": 6,
   "metadata": {},
   "outputs": [
    {
     "data": {
      "text/plain": [
       "Index(['Year', 'Sport', 'Event', 'Country', 'Gender', 'Medal Rank', 'Medal',\n",
       "       'Name of Athlete or Team', 'Age of Athlete'],\n",
       "      dtype='object')"
      ]
     },
     "execution_count": 6,
     "metadata": {},
     "output_type": "execute_result"
    }
   ],
   "source": [
    "df_medals.columns"
   ]
  },
  {
   "cell_type": "code",
   "execution_count": 7,
   "metadata": {},
   "outputs": [
    {
     "name": "stdout",
     "output_type": "stream",
     "text": [
      "<class 'pandas.core.frame.DataFrame'>\n",
      "RangeIndex: 2865 entries, 0 to 2864\n",
      "Data columns (total 9 columns):\n",
      " #   Column                   Non-Null Count  Dtype  \n",
      "---  ------                   --------------  -----  \n",
      " 0   Year                     2865 non-null   int64  \n",
      " 1   Sport                    2865 non-null   object \n",
      " 2   Event                    2865 non-null   object \n",
      " 3   Country                  2865 non-null   object \n",
      " 4   Gender                   2865 non-null   object \n",
      " 5   Medal Rank               2865 non-null   int64  \n",
      " 6   Medal                    2865 non-null   object \n",
      " 7   Name of Athlete or Team  2865 non-null   object \n",
      " 8   Age of Athlete           2173 non-null   float64\n",
      "dtypes: float64(1), int64(2), object(6)\n",
      "memory usage: 201.6+ KB\n"
     ]
    }
   ],
   "source": [
    "df_medals.info()"
   ]
  },
  {
   "cell_type": "code",
   "execution_count": 10,
   "metadata": {},
   "outputs": [
    {
     "data": {
      "text/html": [
       "<div>\n",
       "<style scoped>\n",
       "    .dataframe tbody tr th:only-of-type {\n",
       "        vertical-align: middle;\n",
       "    }\n",
       "\n",
       "    .dataframe tbody tr th {\n",
       "        vertical-align: top;\n",
       "    }\n",
       "\n",
       "    .dataframe thead th {\n",
       "        text-align: right;\n",
       "    }\n",
       "</style>\n",
       "<table border=\"1\" class=\"dataframe\">\n",
       "  <thead>\n",
       "    <tr style=\"text-align: right;\">\n",
       "      <th></th>\n",
       "      <th>Year</th>\n",
       "      <th>Medal Rank</th>\n",
       "      <th>Age of Athlete</th>\n",
       "    </tr>\n",
       "  </thead>\n",
       "  <tbody>\n",
       "    <tr>\n",
       "      <th>count</th>\n",
       "      <td>2865.000000</td>\n",
       "      <td>2865.000000</td>\n",
       "      <td>2173.000000</td>\n",
       "    </tr>\n",
       "    <tr>\n",
       "      <th>mean</th>\n",
       "      <td>1986.488656</td>\n",
       "      <td>1.995812</td>\n",
       "      <td>25.152324</td>\n",
       "    </tr>\n",
       "    <tr>\n",
       "      <th>std</th>\n",
       "      <td>23.489775</td>\n",
       "      <td>0.815773</td>\n",
       "      <td>4.271764</td>\n",
       "    </tr>\n",
       "    <tr>\n",
       "      <th>min</th>\n",
       "      <td>1924.000000</td>\n",
       "      <td>1.000000</td>\n",
       "      <td>14.000000</td>\n",
       "    </tr>\n",
       "    <tr>\n",
       "      <th>25%</th>\n",
       "      <td>1972.000000</td>\n",
       "      <td>1.000000</td>\n",
       "      <td>22.000000</td>\n",
       "    </tr>\n",
       "    <tr>\n",
       "      <th>50%</th>\n",
       "      <td>1992.000000</td>\n",
       "      <td>2.000000</td>\n",
       "      <td>25.000000</td>\n",
       "    </tr>\n",
       "    <tr>\n",
       "      <th>75%</th>\n",
       "      <td>2006.000000</td>\n",
       "      <td>3.000000</td>\n",
       "      <td>28.000000</td>\n",
       "    </tr>\n",
       "    <tr>\n",
       "      <th>max</th>\n",
       "      <td>2014.000000</td>\n",
       "      <td>3.000000</td>\n",
       "      <td>42.000000</td>\n",
       "    </tr>\n",
       "  </tbody>\n",
       "</table>\n",
       "</div>"
      ],
      "text/plain": [
       "              Year   Medal Rank  Age of Athlete\n",
       "count  2865.000000  2865.000000     2173.000000\n",
       "mean   1986.488656     1.995812       25.152324\n",
       "std      23.489775     0.815773        4.271764\n",
       "min    1924.000000     1.000000       14.000000\n",
       "25%    1972.000000     1.000000       22.000000\n",
       "50%    1992.000000     2.000000       25.000000\n",
       "75%    2006.000000     3.000000       28.000000\n",
       "max    2014.000000     3.000000       42.000000"
      ]
     },
     "execution_count": 10,
     "metadata": {},
     "output_type": "execute_result"
    }
   ],
   "source": [
    "df_medals.describe()"
   ]
  },
  {
   "cell_type": "code",
   "execution_count": 14,
   "metadata": {},
   "outputs": [
    {
     "data": {
      "text/plain": [
       "Gender\n",
       "Men      1711\n",
       "Mixed     109\n",
       "Women    1045\n",
       "Name: Year, dtype: int64"
      ]
     },
     "execution_count": 14,
     "metadata": {},
     "output_type": "execute_result"
    }
   ],
   "source": [
    "df_medals.groupby('Gender').count()['Year']"
   ]
  },
  {
   "cell_type": "markdown",
   "metadata": {},
   "source": [
    "## Questions\n",
    "\n",
    "- Does the US have better female medal representation (% medals) than China? Russia? Iran? England?\n",
    "\n",
    "- How did the % of female sports in the olympics change over time?\n",
    "\n",
    "- Is there a country that has better female medal representation overall? \n",
    "        - Does China's dominance in female gymastics skew the results?"
   ]
  }
 ],
 "metadata": {
  "kernelspec": {
   "display_name": "Python 3",
   "language": "python",
   "name": "python3"
  },
  "language_info": {
   "codemirror_mode": {
    "name": "ipython",
    "version": 3
   },
   "file_extension": ".py",
   "mimetype": "text/x-python",
   "name": "python",
   "nbconvert_exporter": "python",
   "pygments_lexer": "ipython3",
   "version": "3.7.6"
  }
 },
 "nbformat": 4,
 "nbformat_minor": 4
}
